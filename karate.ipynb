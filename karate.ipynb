{
 "cells": [
  {
   "cell_type": "code",
   "execution_count": 1,
   "id": "0d3b7fc2",
   "metadata": {},
   "outputs": [],
   "source": [
    "import networkx as nx\n",
    "import random\n",
    "import numpy as np\n",
    "import matplotlib.pyplot as plt\n",
    "import pprint\n",
    "pp = pprint.PrettyPrinter(indent=4)\n",
    "%matplotlib inline\n",
    "import ipdb"
   ]
  },
  {
   "cell_type": "code",
   "execution_count": null,
   "id": "174a0c3e",
   "metadata": {},
   "outputs": [],
   "source": [
    "karate = nx.karate_club_graph()\n",
    "#Coloring factions\n",
    "(faction1_col, faction2_col) = ('yellow','lightblue')\n",
    "#Building list of colors\n",
    "node_color = [''] * len(karate.nodes())\n",
    "node_dict = dict(karate.nodes(data=True))\n",
    "#Assign colors based on factions\n",
    "for n in karate.nodes():\n",
    "    if node_dict[n]['club'] == 'Mr. Hi':\n",
    "        node_color[n] = faction1_col\n",
    "    elif node_dict[n]['club'] == 'Officer':\n",
    "        node_color[n] = faction2_col\n",
    "    else:\n",
    "        print(\"Something is broken\")\n",
    "        break;\n",
    "# Initialize the position\n",
    "# ipdb.set_trace()\n",
    "pos = nx.spring_layout(karate, scale=0.2)\n",
    "# Label nodes\n",
    "nx.draw_networkx_labels(karate,pos,font_size=10,font_color='black')\n",
    "# Highlight the leaders\n",
    "nx.draw_networkx_nodes(karate,pos,{0,33},node_color=['black','black'],node_size=700)\n",
    "# Now draw all the nodes, including leaders, using faction color scheme.\n",
    "nx.draw_networkx_nodes(karate,pos,node_color=node_color,node_size=500)\n",
    "nx.draw_networkx_edges(karate,pos)\n",
    "plt.show()"
   ]
  }
 ],
 "metadata": {
  "kernelspec": {
   "display_name": "Python 3",
   "language": "python",
   "name": "python3"
  },
  "language_info": {
   "codemirror_mode": {
    "name": "ipython",
    "version": 3
   },
   "file_extension": ".py",
   "mimetype": "text/x-python",
   "name": "python",
   "nbconvert_exporter": "python",
   "pygments_lexer": "ipython3",
   "version": "3.8.8"
  }
 },
 "nbformat": 4,
 "nbformat_minor": 5
}
